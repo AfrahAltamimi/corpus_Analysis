{
 "cells": [
  {
   "cell_type": "markdown",
   "metadata": {},
   "source": [
    "في هذا النشاط سنرى كيف يمكن تحويل النص إلى أرقام. ويسمى هذا النوع من التمثيل الرقمي *متجها vector*. ومن ثم تسمى كل عملية تحول فيها اللغة إلى أرقام بالتمثيل المتجهي vectorizing. وكالعادة سنبدأ الآن بتحميل بيئة العمل.\n"
   ]
  },
  {
   "cell_type": "code",
   "execution_count": 1,
   "metadata": {},
   "outputs": [
    {
     "name": "stdout",
     "output_type": "stream",
     "text": [
      "Done!\n"
     ]
    }
   ],
   "source": [
    "from text_analytics import TextAnalytics\n",
    "import os\n",
    "import pandas as pd\n",
    "\n",
    "ai = TextAnalytics()\n",
    "ai.data_dir = os.path.join(\"..\", \"data\")\n",
    "print(\"Done!\")"
   ]
  },
  {
   "cell_type": "markdown",
   "metadata": {},
   "source": [
    "سنبدأ هذه المرة بالعمل على المدونات الرقمية (مدونة من التغريدات تمثل مدنا متنوعة حول العالم). وكل صف فيها عبارة عن عينة تجمع عددا من التغريدات المنشورة في وقت محدد.\n",
    "\n"
   ]
  },
  {
   "cell_type": "code",
   "execution_count": 2,
   "metadata": {},
   "outputs": [
    {
     "name": "stdout",
     "output_type": "stream",
     "text": [
      "             City                                               Text\n",
      "0      washington   you really need to go back to bar tending or ...\n",
      "1          london   jay finley christ in explains why today is co...\n",
      "2           lagos   forget if this happened truly it s definitely...\n",
      "3         toronto   yall i love this skin big thanks to for makin...\n",
      "4         nairobi   the late brilliant prof ali mazrui explains h...\n",
      "...           ...                                                ...\n",
      "9995       dallas   seriously god is peripheral god is nice or ma...\n",
      "9996  los_angeles   good morning watching workouts who shall be m...\n",
      "9997       mumbai   you need to provide everything online on site...\n",
      "9998      toronto   we re hiring the centre is looking for highly...\n",
      "9999      kolkata   ingersoll rand is hiring for engineer i banga...\n",
      "\n",
      "[10000 rows x 2 columns]\n",
      "\n",
      "Done!\n"
     ]
    }
   ],
   "source": [
    "file = \"sociolinguistics.english_cities.gz\"\n",
    "file = os.path.join(ai.data_dir, file)\n",
    "df = pd.read_csv(file, nrows = 10000)\n",
    "print(df)\n",
    "print(\"\\nDone!\")\n"
   ]
  },
  {
   "cell_type": "markdown",
   "metadata": {},
   "source": [
    "إذن سنشغل هذا الكود لتحويل هذه المدونة إلى متجه تكراري من الكلمات. وقد سنستعمل مكتبة *scikit-learn* لإجراء هذا التحليل."
   ]
  },
  {
   "cell_type": "code",
   "execution_count": 3,
   "metadata": {},
   "outputs": [
    {
     "name": "stdout",
     "output_type": "stream",
     "text": [
      "Done!\n"
     ]
    }
   ],
   "source": [
    "from sklearn.feature_extraction.text import CountVectorizer\n",
    "\n",
    "vectorizer = CountVectorizer(input = \"content\", analyzer = \"word\")\n",
    "\n",
    "print(\"Done!\")"
   ]
  },
  {
   "cell_type": "markdown",
   "metadata": {},
   "source": [
    "والآن لنتابع، ونستعمله."
   ]
  },
  {
   "cell_type": "code",
   "execution_count": 4,
   "metadata": {},
   "outputs": [
    {
     "name": "stdout",
     "output_type": "stream",
     "text": [
      "  (0, 427)\t36\n",
      "  (0, 172)\t4\n",
      "  (0, 168)\t5\n",
      "  (0, 256)\t1\n",
      "  (0, 89)\t1\n",
      "  (0, 389)\t3\n",
      "  (0, 161)\t1\n",
      "  (0, 463)\t1\n",
      "  (0, 379)\t1\n",
      "  (0, 300)\t6\n",
      "  (0, 54)\t1\n",
      "  (0, 354)\t1\n",
      "  (0, 358)\t1\n",
      "  (0, 227)\t8\n",
      "  (0, 513)\t2\n",
      "  (0, 403)\t1\n",
      "  (0, 122)\t1\n",
      "  (0, 151)\t12\n",
      "  (0, 104)\t1\n",
      "  (0, 517)\t2\n",
      "  (0, 505)\t2\n",
      "  (0, 392)\t2\n",
      "  (0, 220)\t2\n",
      "  (0, 130)\t2\n",
      "  (0, 375)\t1\n",
      "  :\t:\n",
      "  (0, 423)\t1\n",
      "  (0, 100)\t1\n",
      "  (0, 118)\t1\n",
      "  (0, 445)\t1\n",
      "  (0, 75)\t1\n",
      "  (0, 332)\t1\n",
      "  (0, 77)\t1\n",
      "  (0, 510)\t1\n",
      "  (0, 357)\t1\n",
      "  (0, 7)\t1\n",
      "  (0, 322)\t1\n",
      "  (0, 377)\t2\n",
      "  (0, 273)\t1\n",
      "  (0, 299)\t1\n",
      "  (0, 234)\t1\n",
      "  (0, 368)\t1\n",
      "  (0, 270)\t1\n",
      "  (0, 47)\t1\n",
      "  (0, 254)\t1\n",
      "  (0, 252)\t1\n",
      "  (0, 456)\t1\n",
      "  (0, 452)\t1\n",
      "  (0, 221)\t1\n",
      "  (0, 378)\t1\n",
      "  (0, 193)\t1\n",
      "Done!\n"
     ]
    }
   ],
   "source": [
    "line = ai.print_sample(df)\n",
    "vector = vectorizer.fit_transform([line])\n",
    "print(vector)\n",
    "print(\"Done!\")"
   ]
  },
  {
   "cell_type": "markdown",
   "metadata": {},
   "source": [
    "إذن أول ما استعرضناه هو السلسلة الحرفية. وما يأتي بعدها هو النقل المتجهي أو الرقمي لتلك السلسلة الحرفية.\n",
    "\n",
    "\n",
    "وما يظهر حاليا هو المتجه في صيغة متجه *متناثر sparse* لا ينبغي فيه عرض كل عنصر من العناصر. والتمثيل المتجهي المتناثر مفيد؛ لأن الكثير من القيم ستكون قيما صفرية. وسنعرض لاحقا النسخة الكاملة بتحويل هذا المتجه إلى متجه كثيف dense."
   ]
  },
  {
   "cell_type": "code",
   "execution_count": 5,
   "metadata": {},
   "outputs": [
    {
     "name": "stdout",
     "output_type": "stream",
     "text": [
      "[[ 1  3  1  1  2  1  2  2  1  1  5  2  3  2  1  1  3  6 16  1  1  1  1  1\n",
      "   1  1  1  1  1  1  1  6  4  1  1  1  4  1  1  1  2  1  1  1  1  3  1  1\n",
      "   3  2  1  1  1  1  1  1  2  1  1  1  1  1  1  1  1  1  1  1  1  1  1  1\n",
      "   3  4  1  1  1  1  1  1  1  1  1  1  1  1  1  1  1  1  1  1  1  1  1  1\n",
      "   1  1  1  1  1  1  1  1  1  1  1  1  1  1  1  1  1  1  1  1  1  1  4  2\n",
      "   1  1  1  2  1  1  3  1  1  1  1  1  1  1  1  1  1  1  1  1  1  1  1  1\n",
      "   1  2  1 14  1  1  4  1  1  1  3  1  1  1  1  1  1  1  2  1  1  1  3  3\n",
      "   1  1  1  1  1  1  1  1  1  3  1  5  7  1  1  7  1  1  1  2  1  1  1  3\n",
      "   1  2  1  3  2  4  1  1  1  1  5  1  1  6  1  1  1 12  1  1  1  2 16  2\n",
      "  11  1  1  1  1  1  1  2  2  1  1  1  2  1  4  1  1  1  1  1  1  1  1  1\n",
      "   1  1  1  1  1  1  1  1  1  1  1  1  2  1  1  2  2  1  1  1  2  1  2  1\n",
      "   1  1  1  5  1  1  1  1  1  1  1  1  1  1  1  1  1  2  2  3  1  1  1  8\n",
      "   1  1  1  1  2  1  1  2  1  1  1  1  3  1  1 10  1  2  1  1  1 14  1  1\n",
      "   6  3  3  1  5  2  1  1  1  3  2  1  1  1  2  1  1  1  1  1  1  1  1  4\n",
      "   1  1  1  1  1  1  1  1  1  1  1  1  1  1  1  1  1  1  1  2  1  1  1  1\n",
      "   2  1  1  1  1  1  1  1  1  2  1  1  1  1  1  1  1  1  1  1  1  1  1  2\n",
      "   1  1  1  2  1  1  1  1  3  1  1  1  1  1  1  1  2  1  1  1  1  1  1  1\n",
      "   1  7  1  2  4  1  1  1  1  2  1  1  1  1  1  1  1  1  1  1  1  1  1  1\n",
      "   3  1  2  1  1  1 12  1 35  5  1  4  2  5  1  2  1 13  1  1  1  1 26  1\n",
      "   2  1  1  1  1  1  1  1  1  1  1  1  1  1  1  2  2  1  1  2  1  1  1  1\n",
      "   1  1  1  1  1  1  3  1  1  7  2  1  1  1  6  1  1  4  1  5  1  1  3  1\n",
      "   4  1  1  1  2  4  1  1  1  2  1  3  1  1  1  2 16  3  1]]\n",
      "Done!\n"
     ]
    }
   ],
   "source": [
    "line = ai.print_sample(df)\n",
    "vector = vectorizer.fit_transform([line]).todense()\n",
    "print(vector)\n",
    "print(\"Done!\")"
   ]
  },
  {
   "cell_type": "markdown",
   "metadata": {},
   "source": [
    "لننته الآن من ذلك بعرضه في إطار بيانات مناسب."
   ]
  },
  {
   "cell_type": "code",
   "execution_count": 6,
   "metadata": {},
   "outputs": [
    {
     "name": "stdout",
     "output_type": "stream",
     "text": [
      "            0\n",
      "abbott      1\n",
      "about       1\n",
      "absolutely  1\n",
      "academics   1\n",
      "act         1\n",
      "...        ..\n",
      "you         9\n",
      "your        4\n",
      "zero        1\n",
      "𝓲𝓷          1\n",
      "𝓲𝓽𝓪𝓵𝓲𝓬𝓼     1\n",
      "\n",
      "[563 rows x 1 columns]\n",
      "Done!\n"
     ]
    }
   ],
   "source": [
    "line = ai.print_sample(df)\n",
    "vector = vectorizer.fit_transform([line])\n",
    "vector = ai.print_vector(vector, vectorizer)\n",
    "print(vector)\n",
    "print(\"Done!\")"
   ]
  },
  {
   "cell_type": "markdown",
   "metadata": {},
   "source": [
    "تحول هذه العملية كل جملة إلى قائمة من الأرقام. وفي كل مرة تمثل عينة واحدة فقط. وهذا يعني أن هذا المتجه ليس مفيدا في إجراء عمليات المقارنة. كما أننا لم نقرر كيفية تمثيل الخاصية اللغوية تمثيلا أدق. فهذه مجرد نظرة أولى لكيفية تحويل نصوصنا إلى متجهات.\n",
    "\n",
    "\n",
    "لنغير الآن هدفنا ونلقي نظرة على تكرارات الكلمات. فما الذي سيحدث لو حسبنا عدد كل الكلمات؟ سنحمّل هنا التكرارات المحسوبة سابقا لمدونة *نيويورك تايمز NYT* كاملة.\n"
   ]
  },
  {
   "cell_type": "code",
   "execution_count": 7,
   "metadata": {},
   "outputs": [
    {
     "name": "stdout",
     "output_type": "stream",
     "text": [
      "                     Freq\n",
      "the              23600413\n",
      "of               13228324\n",
      "a                 9252017\n",
      "and               8944509\n",
      "to                8118755\n",
      "...                   ...\n",
      "morespecific            1\n",
      "carolinareturns         1\n",
      "sumbono                 1\n",
      "rhombuses               1\n",
      "fathersons              1\n",
      "\n",
      "[1452616 rows x 1 columns]\n",
      "364554840\n"
     ]
    }
   ],
   "source": [
    "file = \"economic.nyt.1931-2016.gz.freq.gz\"\n",
    "file = os.path.join(ai.data_dir, file)\n",
    "freq_df = pd.read_csv(file, index_col = 0)\n",
    "print(freq_df)\n",
    "\n",
    "print(freq_df.loc[:,\"Freq\"].sum())"
   ]
  },
  {
   "cell_type": "code",
   "execution_count": 10,
   "metadata": {},
   "outputs": [
    {
     "name": "stdout",
     "output_type": "stream",
     "text": [
      "                  Freq\n",
      "the           62430126\n",
      "of            31703209\n",
      "to            27865993\n",
      "and           21293643\n",
      "in            18100620\n",
      "...                ...\n",
      "frfrench             1\n",
      "iajapanese           1\n",
      "ukunited             1\n",
      "pnpanamantan         1\n",
      "desron               1\n",
      "\n",
      "[1836019 rows x 1 columns]\n",
      "842553927\n"
     ]
    }
   ],
   "source": [
    "file = \"economic.congress.1931-2016.gz.freq.gz\"\n",
    "file = os.path.join(ai.data_dir, file)\n",
    "freq_df2 = pd.read_csv(file, index_col = 0)\n",
    "freq_df2.columns = [\"Freq\"]\n",
    "print(freq_df2)\n",
    "\n",
    "print(freq_df2.loc[:,\"Freq\"].sum())\n",
    "freq_df2.reset_index(level=0, inplace=True)"
   ]
  },
  {
   "cell_type": "markdown",
   "metadata": {},
   "source": [
    "إذن لدينا هنا ما مجموعه 1,452,132 كلمة نوعية، و364,554,943 كلمة فعلية. وهي بيانات رقمية غير رسمية. لكن ماذا عن نصوص خطابات الكونقرس؟ لقد حملنا أيضا تكرارات الكلمات الخاصة بنصوص الكونقرس. وفيها يوجد بيانات أكثر (842 مليون كلمة)، ولكنها فقط 1,832,931 كلمة نوعية. حيث إن نسبة الكلمات النوعية للفعلية في مدونة نيويورك تايمز هي 0.0039، فيما هي في مدونة خطابات الكونقرس 0.0021. ومن ثم فإن بيانات مدونة الخطابات هي أكثر صِيغِيَّة وبمفردات جديدة أقل."
   ]
  },
  {
   "cell_type": "markdown",
   "metadata": {},
   "source": [
    "ولكن كيف يبدو توزيع تكرارات الكلمات؟ دعونا نرسم تمثيلا بيانيا يوضح عدد الكلمات عند كل نقطة تكرار. وحيث إن التكرار ينخفض انخفاضا حادا سريعا، لا بد من استعمال مقياس لوغاريثمي."
   ]
  },
  {
   "cell_type": "code",
   "execution_count": 11,
   "metadata": {
    "direction": "rtl"
   },
   "outputs": [
    {
     "data": {
      "image/png": "[encoded data removed]",
      "text/plain": [
       "<Figure size 432x288 with 1 Axes>"
      ]
     },
     "metadata": {},
     "output_type": "display_data"
    }
   ],
   "source": [
    "%matplotlib inline\n",
    "import seaborn as sns\n",
    "import matplotlib.pyplot as plt\n",
    "from matplotlib import rcParams\n",
    "\n",
    "sns.set(font_scale = 2)\n",
    "sns.kdeplot(data = freq_df2, x = \"Freq\", fill = True, log_scale = True, linewidth = 5, \n",
    "            bw_method = \"scott\", bw_adjust = 3)\n",
    "\n",
    "# figure size in inches\n",
    "rcParams['figure.figsize'] = 11.7,8.27\n",
    "\n"
   ]
  },
  {
   "cell_type": "markdown",
   "metadata": {},
   "source": [
    "وهذا يبين أن معظم الكلمات ذات تكرار منخفض، مع عدد قليل منها يرد بتكرار عال (الطرف الطويل في الشكل المتجه نحو اليمين)."
   ]
  }
 ],
 "metadata": {
  "direction": "rtl",
  "kernelspec": {
   "display_name": "Python 3 (ipykernel)",
   "language": "python",
   "name": "python3"
  },
  "language_info": {
   "codemirror_mode": {
    "name": "ipython",
    "version": 3
   },
   "file_extension": ".py",
   "mimetype": "text/x-python",
   "name": "python",
   "nbconvert_exporter": "python",
   "pygments_lexer": "ipython3",
   "version": "3.9.7"
  }
 },
 "nbformat": 4,
 "nbformat_minor": 4
}
