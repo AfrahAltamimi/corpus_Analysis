{
 "cells": [
  {
   "cell_type": "markdown",
   "metadata": {},
   "source": [
    "في هذا النشاط سنتعمق في استكشاف تصنيفات بياناتنا أكثر من خلال النظر في تصنيف أو صنف واحد في كل مرة. إذ سنلقي نظرة على المقالات الصحفية غير أنه بدلا من استعراضها جميعا مرة واحدة، سننظر فيها سنة بعد أخرى في كل مرة.\n",
    "\n",
    "نبدأ الآن بتحميل بيئة العمل.\n"
   ]
  },
  {
   "cell_type": "code",
   "execution_count": 1,
   "metadata": {},
   "outputs": [
    {
     "name": "stdout",
     "output_type": "stream",
     "text": [
      "Done!\n"
     ]
    }
   ],
   "source": [
    "from text_analytics import TextAnalytics\n",
    "import os\n",
    "import pandas as pd\n",
    "\n",
    "ai = TextAnalytics()\n",
    "ai.data_dir = os.path.join(\"..\", \"data\")\n",
    "print(\"Done!\")"
   ]
  },
  {
   "cell_type": "markdown",
   "metadata": {},
   "source": [
    "سنحمّل بياناتنا الآن، وهذه المرة ستكون المقالات الافتتاحية من صحيفة *نيويورك تايمز*."
   ]
  },
  {
   "cell_type": "code",
   "execution_count": 2,
   "metadata": {},
   "outputs": [
    {
     "name": "stdout",
     "output_type": "stream",
     "text": [
      "        Year  Month                                               Text\n",
      "0       1931      5  PHILADELPHIA, April. 30.-- Braced for what the...\n",
      "1       1931      5  BUENOS AIRES, April 30.--Argentina, winner in ...\n",
      "2       1931      5  WASHINGTON, April 30.--Music of a kind hithert...\n",
      "3       1931      5  WASHINGTON, April 30.--Two skirmishes between ...\n",
      "4       1931      5  ROCHESTER, N.Y., April 30.-- Three Federal ban...\n",
      "...      ...    ...                                                ...\n",
      "999995  1943     11  Fearful lest the shortage of whiskies and the ...\n",
      "999996  1943     11  \"An exhibition called \"\"Prints of Our Allies\"\"...\n",
      "999997  1943     11  \"Not more than 300 men in the stock market com...\n",
      "999998  1943     11  The early operational bulletin, as broadcast f...\n",
      "999999  1943     11  LONDON, Nov. 12 (U.P.) -- In Serbia, near Uzic...\n",
      "\n",
      "[1000000 rows x 3 columns]\n"
     ]
    }
   ],
   "source": [
    "file = os.path.join(ai.data_dir, \"economic.nyt.1931-2016.gz\")\n",
    "df = pd.read_csv(file, nrows = 1000000)\n",
    "print(df)"
   ]
  },
  {
   "cell_type": "markdown",
   "metadata": {},
   "source": [
    "إذن هنا يظهر كيفية النظر في تصنيف واحد فقط في كل مرة باستعمال: *groupby*."
   ]
  },
  {
   "cell_type": "code",
   "execution_count": 3,
   "metadata": {},
   "outputs": [
    {
     "name": "stdout",
     "output_type": "stream",
     "text": [
      "1931 :  46597\n",
      "1932 :  67283\n",
      "1933 :  66843\n",
      "1934 :  77682\n",
      "1935 :  78552\n",
      "1936 :  80509\n",
      "1937 :  131577\n",
      "1938 :  122919\n",
      "1939 :  66237\n",
      "1940 :  64928\n",
      "1941 :  69393\n",
      "1942 :  70895\n",
      "1943 :  56585\n",
      "Done!\n"
     ]
    }
   ],
   "source": [
    "for year, year_df in df.groupby(\"Year\"):\n",
    "        print(year, \": \", len(year_df))\n",
    "        \n",
    "print(\"Done!\")"
   ]
  },
  {
   "cell_type": "markdown",
   "metadata": {},
   "source": [
    "يوضح لنا هذا الكود البرمجي عدد المقالات الصحفية التي تتضمنها المدونة في كل سنة (حملنا فقط الجزء الأول منها، ولذا هذا مجرد جزء منها وليست كلها). وتلك واحدة من الطرق التي يمكن أن تُجرى فيها عملية التكرار iterating على البيانات. إلا أننا بدلا من إجراء عملية التكرار على المقالات فرادى أجريناها على تصنيفات المقالات.\n",
    "\n",
    "ولنحول ذلك الآن إلى رسم بياني."
   ]
  },
  {
   "cell_type": "code",
   "execution_count": 4,
   "metadata": {},
   "outputs": [
    {
     "name": "stdout",
     "output_type": "stream",
     "text": [
      "          N.\n",
      "Year        \n",
      "1931   46597\n",
      "1932   67283\n",
      "1933   66843\n",
      "1934   77682\n",
      "1935   78552\n",
      "1936   80509\n",
      "1937  131577\n",
      "1938  122919\n",
      "1939   66237\n",
      "1940   64928\n",
      "1941   69393\n",
      "1942   70895\n",
      "1943   56585\n",
      "Done!\n"
     ]
    }
   ],
   "source": [
    "years = []\n",
    "for year, year_df in df.groupby(\"Year\"):\n",
    "        years.append([year, len(year_df)])\n",
    "\n",
    "years = pd.DataFrame(years, columns = [\"Year\", \"N.\"])\n",
    "years.set_index(\"Year\", drop = True, inplace = True)\n",
    "print(years)\n",
    "print(\"Done!\")"
   ]
  },
  {
   "cell_type": "code",
   "execution_count": 5,
   "metadata": {},
   "outputs": [
    {
     "data": {
      "text/plain": [
       "<AxesSubplot:ylabel='Year'>"
      ]
     },
     "execution_count": 5,
     "metadata": {},
     "output_type": "execute_result"
    },
    {
     "data": {
      "image/png": "[encoded data removed]",
      "text/plain": [
       "<Figure size 842.4x595.44 with 1 Axes>"
      ]
     },
     "metadata": {
      "needs_background": "light"
     },
     "output_type": "display_data"
    }
   ],
   "source": [
    "%matplotlib inline\n",
    "import matplotlib.pyplot as plt\n",
    "from matplotlib import rcParams\n",
    "rcParams['figure.figsize'] = 11.7,8.27\n",
    "\n",
    "years.plot(kind = \"barh\")"
   ]
  },
  {
   "cell_type": "markdown",
   "metadata": {},
   "source": [
    "هذا كل شيء في هذا النشاط! لقد تعلمنا اليوم كيفية إجراء عملية التكرار على مجموعة بيانات حسب تصنيفاتها.\n",
    "والآن حان دورك لاستعمال مساحة الكود البرمجي أدناه مع الأمثلة أعلاه لإجراء نفس التحليل على ملف مختلف:\n",
    "\n",
    "    \"economic.congress.1931-2016.gz\""
   ]
  },
  {
   "cell_type": "code",
   "execution_count": null,
   "metadata": {},
   "outputs": [],
   "source": []
  }
 ],
 "metadata": {
  "direction": "rtl",
  "kernelspec": {
   "display_name": "Python 3 (ipykernel)",
   "language": "python",
   "name": "python3"
  },
  "language_info": {
   "codemirror_mode": {
    "name": "ipython",
    "version": 3
   },
   "file_extension": ".py",
   "mimetype": "text/x-python",
   "name": "python",
   "nbconvert_exporter": "python",
   "pygments_lexer": "ipython3",
   "version": "3.9.7"
  }
 },
 "nbformat": 4,
 "nbformat_minor": 4
}
