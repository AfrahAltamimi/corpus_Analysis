{
 "cells": [
  {
   "cell_type": "markdown",
   "metadata": {},
   "source": [
    "مرحبا بكم في نشاطنا الثاني!\n",
    "\n",
    "\n",
    "في هذا التدريب سنحمّل مدونة أخرى ثم سنجري بعض الإحصاءات الوصفية لإيجاد البيانات التي نستهدفها. فلنبدأ بتحميل متطلبات العمل في هذه البيئة."
   ]
  },
  {
   "cell_type": "code",
   "execution_count": 1,
   "metadata": {},
   "outputs": [
    {
     "name": "stdout",
     "output_type": "stream",
     "text": [
      "Done!\n"
     ]
    }
   ],
   "source": [
    "from text_analytics import TextAnalytics\n",
    "import os\n",
    "import pandas as pd\n",
    "\n",
    "ai = TextAnalytics()\n",
    "ai.data_dir = os.path.join(\"..\", \"data\")\n",
    "print(\"Done!\")"
   ]
  },
  {
   "cell_type": "markdown",
   "metadata": {},
   "source": [
    "والآن نحمل مدونة أخرى. وفي هذا المرة سيكون عملنا على كتب من القرن التاسع عشر مهداة من مشروع قوتنبيرق. واسم الملف هو \"stylistics.authorship_1800.gz\"، ويتضمن كتبا منقحة ومجزّأة إلى أجزاء قصيرة (تقريبا فصول). وتضم هذه المدونة فقط المؤلفين الذين ألفوا عددا من الكتب. وسنستعمل كتبهم لاحقا في تحليل المؤلف والأسلوب.\n"
   ]
  },
  {
   "cell_type": "code",
   "execution_count": 2,
   "metadata": {},
   "outputs": [
    {
     "name": "stdout",
     "output_type": "stream",
     "text": [
      "        Author                        Title  \\\n",
      "0      alger_h           adrift_in_new_york   \n",
      "1      alger_h           adrift_in_new_york   \n",
      "2      alger_h           adrift_in_new_york   \n",
      "3      alger_h           adrift_in_new_york   \n",
      "4      alger_h           adrift_in_new_york   \n",
      "...        ...                          ...   \n",
      "25535  yonge_c  young_folks_history_of_rome   \n",
      "25536  yonge_c  young_folks_history_of_rome   \n",
      "25537  yonge_c  young_folks_history_of_rome   \n",
      "25538  yonge_c  young_folks_history_of_rome   \n",
      "25539  yonge_c  young_folks_history_of_rome   \n",
      "\n",
      "                                                    Text  \n",
      "0      note project gutenberg also has an html versio...  \n",
      "1      after a brief pause florence seated herself at...  \n",
      "2      turned and fixed a last sad look on the house ...  \n",
      "3      attired young lady seated on the sofa yes leig...  \n",
      "4      a cousin that will like you too a young girl n...  \n",
      "...                                                  ...  \n",
      "25535  free from all suspicion and this of course did...  \n",
      "25536  the purpose of augustus taxing was to make a r...  \n",
      "25537  and pictures nero had brought from greece on p...  \n",
      "25538  maximian who had only retired on the command o...  \n",
      "25539  the hands of the slayers they found the city b...  \n",
      "\n",
      "[25540 rows x 3 columns]\n",
      "\n",
      "Done!\n"
     ]
    }
   ],
   "source": [
    "file = os.path.join(ai.data_dir, \"stylistics.authorship_1800.gz\")\n",
    "df = pd.read_csv(file)\n",
    "print(df)\n",
    "print(\"\\nDone!\")"
   ]
  },
  {
   "cell_type": "markdown",
   "metadata": {},
   "source": [
    "سنكشف الآن عن عدد العينات التي تتضمنها المدونة لمختلف المؤلفين. فالكود البرمجي أدناه يظهر لنا عدد الصفوف التي تخص كل مؤلف من مؤلفينا في هذا الجدول. وتتساوى كل الصفوف في حجم البيانات (5 آلاف كلمة). وهذا يعد مؤشرا نسبيا للإسهامات الفردية في التأليف الخاصة بكل مؤلف. والجدير بالذكر أننا لم نعالج المدونة معالجة قبلية عميقة (بعض الكتب تحتوي على صيغة نص كتابية مكررة boilerplate من مشروع قوتنبيرق). وأحد توجهاتنا التي ستظهر في الأنشطة الآتية هي أن بذل الجهد في إزالة ما لا ينتمي للنص من أجزاء قليلة لا يغير في واقع نتائجنا شيئا.\n"
   ]
  },
  {
   "cell_type": "code",
   "execution_count": 3,
   "metadata": {},
   "outputs": [
    {
     "name": "stdout",
     "output_type": "stream",
     "text": [
      "alger_h 925\n",
      "ballantyne_r 1120\n",
      "baring-gould_s 982\n",
      "darwin_c 858\n",
      "dickens_c 1273\n",
      "ebers_g 975\n",
      "henty_g 2141\n",
      "howells_w 809\n",
      "james_h 830\n",
      "kingston_w 1983\n",
      "lever_c 1232\n",
      "lytton_e 765\n",
      "macdonald_g 1066\n",
      "marryat_f 850\n",
      "meredith_g 491\n",
      "motley_j 335\n",
      "oliphant_m 1322\n",
      "reid_m 1016\n",
      "stevenson_r 1088\n",
      "sue_e 657\n",
      "thackeray_w 771\n",
      "trollope_a 1971\n",
      "twain_m 696\n",
      "yonge_c 1384\n",
      "\n",
      "Done!\n"
     ]
    }
   ],
   "source": [
    "frequencies = ai.print_labels(df, \"Author\")\n",
    "for author in frequencies:\n",
    "    print(author, frequencies[author])\n",
    "    \n",
    "print(\"\\nDone!\")"
   ]
  },
  {
   "cell_type": "markdown",
   "metadata": {},
   "source": [
    "والآن كل *عينة* هي عبارة عن جزء بحجم الفصل يبلغ حوالي 5 آلاف كلمة. إذن هؤلاء المؤلفون كتبوا عددا من الكتب وكل كتاب يضم مجموعة من العينات. ولنمثل ذلك الآن بيانيا في شكل من الأشكال. الخطوة الأولى أن ننشئ إطارا للبيانات يضم كل التكرارات. ولعمل ذلك شغل الكود الآتي.\n"
   ]
  },
  {
   "cell_type": "code",
   "execution_count": 4,
   "metadata": {},
   "outputs": [
    {
     "name": "stdout",
     "output_type": "stream",
     "text": [
      "                Frequency\n",
      "alger_h               925\n",
      "ballantyne_r         1120\n",
      "baring-gould_s        982\n",
      "darwin_c              858\n",
      "dickens_c            1273\n",
      "ebers_g               975\n",
      "henty_g              2141\n",
      "howells_w             809\n",
      "james_h               830\n",
      "kingston_w           1983\n",
      "lever_c              1232\n",
      "lytton_e              765\n",
      "macdonald_g          1066\n",
      "marryat_f             850\n",
      "meredith_g            491\n",
      "motley_j              335\n",
      "oliphant_m           1322\n",
      "reid_m               1016\n",
      "stevenson_r          1088\n",
      "sue_e                 657\n",
      "thackeray_w           771\n",
      "trollope_a           1971\n",
      "twain_m               696\n",
      "yonge_c              1384\n",
      "Done!\n"
     ]
    }
   ],
   "source": [
    "counts = pd.DataFrame.from_dict(frequencies, orient = \"index\", columns = [\"Frequency\"])\n",
    "print(counts)\n",
    "print(\"Done!\")"
   ]
  },
  {
   "cell_type": "markdown",
   "metadata": {},
   "source": [
    "ونحن نستعمل الآن دالة الرسم البياني من *مكتبة البانداز  pandas*\n"
   ]
  },
  {
   "cell_type": "code",
   "execution_count": 5,
   "metadata": {},
   "outputs": [
    {
     "data": {
      "text/plain": [
       "<AxesSubplot:>"
      ]
     },
     "execution_count": 5,
     "metadata": {},
     "output_type": "execute_result"
    },
    {
     "data": {
      "image/png": "[encoded data removed]",
      "text/plain": [
       "<Figure size 842.4x595.44 with 1 Axes>"
      ]
     },
     "metadata": {
      "needs_background": "light"
     },
     "output_type": "display_data"
    }
   ],
   "source": [
    "%matplotlib inline\n",
    "from matplotlib import rcParams\n",
    "rcParams['figure.figsize'] = 11.7,8.27\n",
    "\n",
    "counts.plot(kind = \"barh\")"
   ]
  },
  {
   "cell_type": "markdown",
   "metadata": {},
   "source": [
    "هذا كل شيء! لقد عرضنا بيانات أخرى، واستخلصنا بعض المعلومات الأساسية منها، ومثلناها برسم بياني بسيط يكشف لنا المؤلف الأكثر إنتاجا. والآن حان دورك. \n",
    "\n",
    "حاول استعمال الكود أعلاه لاستكشاف مدونة مختلفة:\n",
    "\n",
    "    \"stylistics.authorship_1850.gz\""
   ]
  }
 ],
 "metadata": {
  "direction": "rtl",
  "kernelspec": {
   "display_name": "Python 3 (ipykernel)",
   "language": "python",
   "name": "python3"
  },
  "language_info": {
   "codemirror_mode": {
    "name": "ipython",
    "version": 3
   },
   "file_extension": ".py",
   "mimetype": "text/x-python",
   "name": "python",
   "nbconvert_exporter": "python",
   "pygments_lexer": "ipython3",
   "version": "3.9.7"
  }
 },
 "nbformat": 4,
 "nbformat_minor": 4
}
