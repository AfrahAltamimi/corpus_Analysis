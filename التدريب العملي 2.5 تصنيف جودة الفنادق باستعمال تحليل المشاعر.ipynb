{
 "cells": [
  {
   "cell_type": "markdown",
   "metadata": {
    "direction": "rtl"
   },
   "source": [
    "في هذا النشاط سنصنف الفنادق بالاعتماد على العاطفة في آراء زوار الفندق. وتلك هي نفس دراسة الحالة التي عرضت في المبحث. فما الذي قد نعرفه عن جودة الفنادق من خلال ما جمع من تقييمات الزوار للفندق؟"
   ]
  },
  {
   "cell_type": "code",
   "execution_count": 1,
   "metadata": {},
   "outputs": [
    {
     "name": "stderr",
     "output_type": "stream",
     "text": [
      "Since the GPL-licensed package `unidecode` is not installed, using Python's `unicodedata` package which yields worse results.\n"
     ]
    },
    {
     "name": "stdout",
     "output_type": "stream",
     "text": [
      "Done!\n"
     ]
    }
   ],
   "source": [
    "from text_analytics import TextAnalytics\n",
    "import os\n",
    "import pandas as pd\n",
    "\n",
    "ai = TextAnalytics()\n",
    "ai.data_dir = os.path.join(\"..\", \"data\")\n",
    "print(\"Done!\")"
   ]
  },
  {
   "cell_type": "markdown",
   "metadata": {},
   "source": [
    "ولنرفع الآن المراجعات التي نحتاجها لكل فندق. وبحثُنا عن فنادق ذات تقييم أقل من 3 نجوم (\"منخفض low\")، وأكثر من 4 نجوم (\"مرتفع high\")، ولكل منها 10 تقييمات على الأقل."
   ]
  },
  {
   "cell_type": "code",
   "execution_count": 2,
   "metadata": {},
   "outputs": [
    {
     "name": "stdout",
     "output_type": "stream",
     "text": [
      "                                       Hotel Rating  \\\n",
      "0                 11th Avenue Hotel & Hostel    low   \n",
      "1                                3 West Club   high   \n",
      "2                                  414 Hotel   high   \n",
      "3     70 park avenue hotel - a Kimpton Hotel   high   \n",
      "4       A Victory Inn & Suites Phoenix North    low   \n",
      "...                                      ...    ...   \n",
      "5294             easyHotel Paddington London    low   \n",
      "5295                           iQ Hotel Roma   high   \n",
      "5296                      misc eatdrinksleep   high   \n",
      "5297                             nhow Berlin   high   \n",
      "5298              theWit, a Doubletree Hotel   high   \n",
      "\n",
      "                                                   Text  \n",
      "0     This hostel is in a very good location, close ...  \n",
      "1     We had 5 nights here and were unsure as to wha...  \n",
      "2     This is a small boutique hotel with a nice int...  \n",
      "3     I stayed at 70 Park Ave Hotel the night before...  \n",
      "4     I made a reservation. Cancelled 2 hours later ...  \n",
      "...                                                 ...  \n",
      "5294  I stayed at this hotel for five nights in May2...  \n",
      "5295  IQ Hotel was definitely a great choice for us....  \n",
      "5296  I can't imagine staying anywhere else in Amste...  \n",
      "5297  Compared to other very good hotels in Berlin (...  \n",
      "5298  Place had a buzz, best for younger set, staff ...  \n",
      "\n",
      "[5299 rows x 3 columns]\n"
     ]
    }
   ],
   "source": [
    "file = \"economic.hotels_as_reviews.gz\"\n",
    "file = os.path.join(ai.data_dir, file)\n",
    "df = pd.read_csv(file)\n",
    "print(df)"
   ]
  },
  {
   "cell_type": "markdown",
   "metadata": {},
   "source": [
    "سنستعمل كلمات المشاعر بوصفها خصائص. والكلمات هي ذات معنى إيجابي أو معنى سلبي. وهي محددة مسبقا، فلا نحتاج أن نستعمل نموذجا قبل استعمالها. ولنلق نظرة الآن على عدد الفنادق ذات التقييمات المرتفعة والتقييمات المنخفضة."
   ]
  },
  {
   "cell_type": "code",
   "execution_count": 3,
   "metadata": {},
   "outputs": [
    {
     "name": "stdout",
     "output_type": "stream",
     "text": [
      "{'low': 1678, 'high': 3621}\n"
     ]
    }
   ],
   "source": [
    "freq = ai.print_labels(df, \"Rating\")\n",
    "print(freq)"
   ]
  },
  {
   "cell_type": "markdown",
   "metadata": {},
   "source": [
    "إن المراجعات ذات انحراف عال، فثمة فنادق جيدة أكثر من الفنادق السيئة. غير أن ما لدينا من عدد لا بأس به في مجموعه، فقد بلغ 5 آلاف فندق. وقد يكون من الصعب إجراء أي تعميمات تحدد لنا ما الفندق الجيد من الفندق السيء من خلال عدد كبير متنوع من المدن وضيوف الفنادق. إذن لدينا الآن (1) بيانات عبارة عن تقييمات للفنادق، و(2) متجه مشاعري (كلمات إيجابية وسلبية). وسنصنف تلك البيانات بحسب الجودة. وأدناه الكود البرمجي الأساسي، وفيه فقط استدعاء لحزمتنا *text_analytics*. وتلك الحزمة تقسم البيانات إلى بيانات تدريب وبيانات اختبار، ثم تدرب المصنف وتقيمه. وفيه نطلب من الحزمة أن تستعمل \" Rating \" بوصفه التصنيف الأساسي مع خصائص المشاعر."
   ]
  },
  {
   "cell_type": "code",
   "execution_count": 4,
   "metadata": {},
   "outputs": [
    {
     "name": "stdout",
     "output_type": "stream",
     "text": [
      "              precision    recall  f1-score   support\n",
      "\n",
      "        high       1.00      1.00      1.00       368\n",
      "         low       1.00      1.00      1.00       162\n",
      "\n",
      "    accuracy                           1.00       530\n",
      "   macro avg       1.00      1.00      1.00       530\n",
      "weighted avg       1.00      1.00      1.00       530\n",
      "\n"
     ]
    }
   ],
   "source": [
    "results = ai.shallow_classification(df, labels = \"Rating\", features = \"sentiment\", classifier = \"lm\")\n",
    "print(results)"
   ]
  },
  {
   "cell_type": "markdown",
   "metadata": {},
   "source": [
    "**طوّل بالك**\n",
    "\n",
    "هذا كل ما في الأمر! ننظر في دقة المصنف.\n",
    "وسيتغير ذلك عما في المبحث قليلا لأننا نستعمل فصلا عشوائيا لبيانات التدريب والاختبار. وهذا يعني أن المصنف ينظر في بيانات مختلفة كل مرة. وإذا ما أردت أمثلة إضافية متقدمة على حل إشكالية تصنيف جودة الفنادق، انظر في دالة *text_analytics.shallow_classification.\n"
   ]
  }
 ],
 "metadata": {
  "direction": "rtl",
  "kernelspec": {
   "display_name": "Python 3 (ipykernel)",
   "language": "python",
   "name": "python3"
  },
  "language_info": {
   "codemirror_mode": {
    "name": "ipython",
    "version": 3
   },
   "file_extension": ".py",
   "mimetype": "text/x-python",
   "name": "python",
   "nbconvert_exporter": "python",
   "pygments_lexer": "ipython3",
   "version": "3.9.7"
  }
 },
 "nbformat": 4,
 "nbformat_minor": 4
}
